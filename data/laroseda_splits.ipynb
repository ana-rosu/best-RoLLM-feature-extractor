{
 "cells": [
  {
   "cell_type": "code",
   "execution_count": 1,
   "id": "1af01567",
   "metadata": {},
   "outputs": [
    {
     "name": "stderr",
     "output_type": "stream",
     "text": [
      "c:\\Users\\Ana\\miniconda3\\envs\\deep-l\\Lib\\site-packages\\tqdm\\auto.py:21: TqdmWarning: IProgress not found. Please update jupyter and ipywidgets. See https://ipywidgets.readthedocs.io/en/stable/user_install.html\n",
      "  from .autonotebook import tqdm as notebook_tqdm\n"
     ]
    },
    {
     "data": {
      "text/plain": [
       "DatasetDict({\n",
       "    train: Dataset({\n",
       "        features: ['index', 'title', 'content', 'starRating'],\n",
       "        num_rows: 12000\n",
       "    })\n",
       "    test: Dataset({\n",
       "        features: ['index', 'title', 'content', 'starRating'],\n",
       "        num_rows: 3000\n",
       "    })\n",
       "})"
      ]
     },
     "execution_count": 1,
     "metadata": {},
     "output_type": "execute_result"
    }
   ],
   "source": [
    "from datasets import load_dataset\n",
    "dataset = load_dataset('universityofbucharest/laroseda', trust_remote_code=True)\n",
    "dataset"
   ]
  },
  {
   "cell_type": "code",
   "execution_count": 2,
   "id": "9c9fad4f",
   "metadata": {},
   "outputs": [],
   "source": [
    "from datasets import DatasetDict\n",
    "from sklearn.model_selection import train_test_split\n",
    "import random\n",
    "import numpy as np\n",
    "import torch\n",
    "\n",
    "SEED = 42\n",
    "random.seed(SEED)\n",
    "np.random.seed(SEED)\n",
    "torch.manual_seed(SEED)\n",
    "torch.cuda.manual_seed_all(SEED)\n",
    "torch.backends.cudnn.deterministic = True\n",
    "torch.backends.cudnn.benchmark = False"
   ]
  },
  {
   "cell_type": "code",
   "execution_count": 3,
   "id": "3f36a49c",
   "metadata": {},
   "outputs": [],
   "source": [
    "train_dataset = dataset['train']\n",
    "train_labels = train_dataset['starRating']\n",
    "\n",
    "train_idx, val_idx = train_test_split(\n",
    "    range(len(train_labels)),\n",
    "    test_size=0.1,\n",
    "    stratify=train_labels,  # stratified split\n",
    "    random_state=SEED       # reproducibility\n",
    ")\n",
    "\n",
    "train_split = train_dataset.select(train_idx)\n",
    "val_split = train_dataset.select(val_idx)\n",
    "\n",
    "final_splits = DatasetDict({\n",
    "    'train': train_split,\n",
    "    'validation': val_split,\n",
    "    'test': dataset['test']  # untouched test split\n",
    "})"
   ]
  },
  {
   "cell_type": "code",
   "execution_count": 4,
   "id": "7b54186f",
   "metadata": {},
   "outputs": [
    {
     "data": {
      "text/plain": [
       "DatasetDict({\n",
       "    train: Dataset({\n",
       "        features: ['index', 'title', 'content', 'starRating'],\n",
       "        num_rows: 10800\n",
       "    })\n",
       "    validation: Dataset({\n",
       "        features: ['index', 'title', 'content', 'starRating'],\n",
       "        num_rows: 1200\n",
       "    })\n",
       "    test: Dataset({\n",
       "        features: ['index', 'title', 'content', 'starRating'],\n",
       "        num_rows: 3000\n",
       "    })\n",
       "})"
      ]
     },
     "execution_count": 4,
     "metadata": {},
     "output_type": "execute_result"
    }
   ],
   "source": [
    "final_splits"
   ]
  },
  {
   "cell_type": "code",
   "execution_count": 5,
   "id": "1af2eb17",
   "metadata": {},
   "outputs": [
    {
     "name": "stdout",
     "output_type": "stream",
     "text": [
      "Train: Counter({5: 4484, 1: 4013, 2: 1387, 4: 916})\n",
      "Validation: Counter({5: 498, 1: 446, 2: 154, 4: 102})\n",
      "Test: Counter({5: 1256, 1: 1102, 2: 398, 4: 244})\n"
     ]
    }
   ],
   "source": [
    "import collections\n",
    "\n",
    "def class_distribution(dataset):\n",
    "    return collections.Counter(dataset['starRating'])\n",
    "\n",
    "print(\"Train:\", class_distribution(final_splits['train']))\n",
    "print(\"Validation:\", class_distribution(final_splits['validation']))\n",
    "print(\"Test:\", class_distribution(final_splits['test']))\n"
   ]
  },
  {
   "cell_type": "code",
   "execution_count": 6,
   "id": "b25d6df3",
   "metadata": {},
   "outputs": [],
   "source": [
    "import pandas as pd\n",
    "import os\n",
    "\n",
    "def save_splits_to_csv(final_splits, save_dir):\n",
    "    os.makedirs(save_dir, exist_ok=True)\n",
    "    for split_name, dataset in final_splits.items():\n",
    "        df = pd.DataFrame({\n",
    "            'index': dataset['index'],\n",
    "            'title': dataset['title'],\n",
    "            'content': dataset['content'],\n",
    "            'starRating': dataset['starRating'],\n",
    "        })\n",
    "        df.to_csv(os.path.join(save_dir, f\"{split_name}.csv\"), index=False)"
   ]
  },
  {
   "cell_type": "code",
   "execution_count": 7,
   "id": "95968e13",
   "metadata": {},
   "outputs": [],
   "source": [
    "save_splits_to_csv(final_splits, save_dir=\"saved_splits/laroseda/\")"
   ]
  }
 ],
 "metadata": {
  "kernelspec": {
   "display_name": "deep-l",
   "language": "python",
   "name": "python3"
  },
  "language_info": {
   "codemirror_mode": {
    "name": "ipython",
    "version": 3
   },
   "file_extension": ".py",
   "mimetype": "text/x-python",
   "name": "python",
   "nbconvert_exporter": "python",
   "pygments_lexer": "ipython3",
   "version": "3.11.11"
  }
 },
 "nbformat": 4,
 "nbformat_minor": 5
}
